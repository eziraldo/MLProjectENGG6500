{
 "cells": [
  {
   "cell_type": "code",
   "execution_count": null,
   "metadata": {},
   "outputs": [],
   "source": [
    "%matplotlib inline"
   ]
  },
  {
   "cell_type": "markdown",
   "metadata": {},
   "source": [
    "\n",
    "# Feature importances with forests of trees\n",
    "\n",
    "\n",
    "This examples shows the use of forests of trees to evaluate the importance of\n",
    "features on an artificial classification task. The red bars are the feature\n",
    "importances of the forest, along with their inter-trees variability.\n",
    "\n",
    "As expected, the plot suggests that 3 features are informative, while the\n",
    "remaining are not.\n"
   ]
  },
  {
   "cell_type": "code",
   "execution_count": 3,
   "metadata": {},
   "outputs": [
    {
     "name": "stdout",
     "output_type": "stream",
     "text": [
      "Automatically created module for IPython interactive environment\n",
      "[[7.400000e-01 7.831000e-01 2.417200e+00 7.604810e+01 1.600000e-01\n",
      "  1.000000e+00]\n",
      " [2.525300e+00 2.589800e+00 8.535700e+00 1.092141e+02 3.700000e-01\n",
      "  1.000000e+00]\n",
      " [6.019100e+00 6.308300e+00 2.076450e+01 8.182480e+01 1.200000e+00\n",
      "  1.000000e+00]\n",
      " ...\n",
      " [6.144880e+01 6.132620e+01 2.121077e+02 2.262573e+02 8.180000e+00\n",
      "  1.000000e+00]\n",
      " [6.210920e+01 6.203170e+01 2.147748e+02 2.530315e+02 7.400000e+00\n",
      "  2.000000e+00]\n",
      " [6.282360e+01 6.270290e+01 2.170222e+02 2.326163e+02 8.090000e+00\n",
      "  2.000000e+00]]\n",
      "[1. 1. 1. 1. 1. 1. 1. 1. 1. 1. 1. 1. 1. 1. 1. 1. 1. 1. 1. 2. 1. 1. 1. 3.\n",
      " 1. 3. 1. 1. 1. 1. 1. 1. 1. 1. 1. 1. 1. 1. 1. 1. 1. 1. 1. 1. 1. 1. 2. 1.\n",
      " 1. 1. 1. 1. 1. 1. 1. 1. 1. 1. 1. 1. 2. 1. 2. 1. 1. 1. 1. 1. 3. 1. 1. 1.\n",
      " 1. 1. 3. 1. 1. 1. 1. 1. 1. 3. 1. 3. 1. 3. 1. 1. 3. 1. 1. 1. 1. 1. 1. 1.\n",
      " 1. 1. 1. 1. 1. 1. 1. 1. 1. 1. 1. 1. 1. 1. 1. 1. 1. 1. 1. 1. 1. 1. 1. 1.\n",
      " 1. 1. 1. 1. 1. 3. 1. 1. 1. 1. 3. 1. 1. 1. 3. 2. 1. 3. 1. 1. 1. 1. 1. 1.\n",
      " 1. 3. 1. 1. 1. 3. 3. 1. 2. 1. 1. 1. 1. 1. 3. 3. 1. 1. 1. 1. 2. 2. 3. 3.\n",
      " 1. 3. 1. 1. 3. 1. 1. 1. 1. 1. 1. 1. 3. 1. 1. 1. 1. 1. 1. 1. 2. 1. 1. 1.\n",
      " 3. 1. 1. 3. 1. 3. 2. 1. 1. 1. 1. 3. 1. 1. 1. 2. 1. 1. 1. 1. 1. 3. 1. 3.\n",
      " 3. 2. 1. 1. 3. 1. 1. 1. 3. 1. 3. 1. 3. 1. 2. 3. 3. 1. 1. 3. 1. 2. 2. 2.\n",
      " 1. 1. 1. 2. 2. 3. 1. 1. 1. 1. 1. 3. 2. 2. 1. 1. 1. 2. 2. 3. 2. 1. 1. 1.\n",
      " 1. 2. 3. 1. 1. 2. 1. 3. 2. 1. 3. 1. 1. 2. 1. 1. 1. 1. 1. 2. 1. 2. 2.]\n",
      "Original dataset shape Counter({1.0: 215, 3.0: 42, 2.0: 30})\n",
      "Resampled dataset shape Counter({1.0: 30, 2.0: 30, 3.0: 30})\n",
      "Feature ranking:\n",
      "1. feature 5 (0.744264)\n",
      "2. feature 0 (0.054429)\n",
      "3. feature 3 (0.051810)\n",
      "4. feature 2 (0.051052)\n",
      "5. feature 1 (0.049935)\n",
      "6. feature 4 (0.048510)\n"
     ]
    },
    {
     "data": {
      "image/png": "[encoded data removed]",
      "text/plain": [
       "<Figure size 432x288 with 1 Axes>"
      ]
     },
     "metadata": {
      "needs_background": "light"
     },
     "output_type": "display_data"
    },
    {
     "data": {
      "text/plain": [
       "array([[ 9,  0,  0],\n",
       "       [ 0, 10,  0],\n",
       "       [ 0,  0,  8]], dtype=int64)"
      ]
     },
     "execution_count": 3,
     "metadata": {},
     "output_type": "execute_result"
    }
   ],
   "source": [
    "print(__doc__)\n",
    "\n",
    "import numpy as np\n",
    "import matplotlib.pyplot as plt\n",
    "import pandas as pd\n",
    "from sklearn.preprocessing import scale\n",
    "from sklearn.datasets import make_classification\n",
    "from sklearn.ensemble import ExtraTreesClassifier\n",
    "from sklearn.model_selection import train_test_split\n",
    "from sklearn.metrics import plot_roc_curve, confusion_matrix, accuracy_score\n",
    "\n",
    "# header = ['name', 'hazType', 'meanXdist', 'meanYdist', 'meanAngle', 'meanSLdist', 'meanXspeed', 'meanYspeed', 'medianXdist', \n",
    "#           'medianYdist', 'medianAngle', 'medianSLdist', 'medianXspeed', 'medianYspeed', 'stdXdist', 'stdYdist', 'stdAngle', \n",
    "#           'stdSLdist', 'stdXspeed', 'stdYspeed', 'minXdist', 'minYdist', 'minAngle', 'minSLdist', 'minXspeed', 'minYspeed', \n",
    "#           'maxXdist', 'maxYdist', 'maxAngle', 'maxSLdist', 'maxXspeed', 'maxYspeed', 'rangeXdist',  'rangeYdist', 'rangeAngle', \n",
    "#           'rangeSLdist', 'rangeXspeed', 'rangeYspeed', 'skewXdist', 'skewYdist', 'skewAngle', 'skewSLdist', 'skewXspeed', 'skewYspeed', \n",
    "#           'kurtXdist', 'kurtYdist', 'kurtAngle', 'kurtSLdist', 'kurtXspeed', 'kurtYspeed', 'cvXdist', 'cvYdist', \n",
    "#           'cvAngle', 'cvSLdist', 'cvXspeed', 'cvYspeed', 'madXdist', 'madYdist', 'madAngle', 'madSLdist', 'madXspeed', 'madYspeed', \n",
    "#           'action', 'RT']\n",
    "\n",
    "\n",
    "data = pd.read_csv(\"april11dataNoNaN-subdivided.csv\", header =0, index_col=0)\n",
    "npdata = data.to_numpy()\n",
    "X = npdata[:, 1:8]\n",
    "print(X)\n",
    "y = npdata[:, 6]\n",
    "print(y)\n",
    "\n",
    "from collections import Counter\n",
    "from sklearn.datasets import make_classification\n",
    "from imblearn.under_sampling import NearMiss \n",
    "\n",
    "print('Original dataset shape %s' % Counter(y))\n",
    "nm = NearMiss()\n",
    "X_res, y_res = nm.fit_resample(X, y)\n",
    "print('Resampled dataset shape %s' % Counter(y_res))\n",
    "\n",
    "X_train, X_test, y_train, y_test =  train_test_split(X_res,y_res, test_size=0.3, random_state=0)\n",
    "\n",
    "# X_train_scaled = scale(X_train)\n",
    "# X_test_scaled = scale(X_test)\n",
    "\n",
    "\n",
    "# Build a forest and compute the feature importances\n",
    "forest = ExtraTreesClassifier(n_estimators=250, random_state=0, max_depth = 5)\n",
    "\n",
    "forest.fit(X_train, y_train)\n",
    "importances = forest.feature_importances_\n",
    "std = np.std([tree.feature_importances_ for tree in forest.estimators_],\n",
    "             axis=0)\n",
    "indices = np.argsort(importances)[::-1]\n",
    "\n",
    "# Print the feature ranking\n",
    "print(\"Feature ranking:\")\n",
    "\n",
    "for f in range(X.shape[1]):\n",
    "    print(\"%d. feature %d (%f)\" % (f + 1, indices[f], importances[indices[f]]))\n",
    "\n",
    "# Plot the feature importances of the forest\n",
    "plt.figure()\n",
    "plt.title(\"Feature importances\")\n",
    "plt.bar(range(X.shape[1]), importances[indices],\n",
    "       color=\"r\", yerr=std[indices], align=\"center\")\n",
    "plt.xticks(range(X.shape[1]), indices)\n",
    "plt.xlim([-1, X.shape[1]])\n",
    "plt.show()\n",
    "\n",
    "\n",
    "y_true = y_test\n",
    "y_pred = forest.predict(X_test)\n",
    "confusion_matrix(y_true, y_pred)\n",
    "\n",
    "# print(confusion_matrix(y_true, y_pred))\n",
    "# print(accuracy_score(y_true, y_pred))"
   ]
  },
  {
   "cell_type": "code",
   "execution_count": 129,
   "metadata": {},
   "outputs": [],
   "source": [
    "import numpy as np\n",
    "data = pd.read_csv(\"april11dataNoNaN-subdivided.csv\", header =0, index_col=0)\n",
    "npdata = data.to_numpy()\n",
    "X = npdata[:, 1:8]\n",
    "# print(X)\n",
    "y = npdata[:, 8]\n",
    "# print(y)\n",
    "\n",
    "X_train, X_test, y_train, y_test =  train_test_split(X,y, test_size=0.3, random_state=0)\n",
    "\n",
    "X_train_scaled = scale(X_train)\n",
    "X_test_scaled = scale(X_test)"
   ]
  },
  {
   "cell_type": "code",
   "execution_count": 136,
   "metadata": {},
   "outputs": [
    {
     "data": {
      "text/plain": [
       "0.09203071832895604"
      ]
     },
     "execution_count": 136,
     "metadata": {},
     "output_type": "execute_result"
    }
   ],
   "source": [
    "import numpy as np\n",
    "data = pd.read_csv(\"april11dataNoNaN-subdivided.csv\", header =0, index_col=0)\n",
    "npdata = data.to_numpy()\n",
    "X = npdata[:, 1:8]\n",
    "# print(X)\n",
    "y = npdata[:, 8]\n",
    "# print(y)\n",
    "\n",
    "X_train, X_test, y_train, y_test =  train_test_split(X,y, test_size=0.3, random_state=0)\n",
    "\n",
    "X_train_scaled = scale(X_train)\n",
    "X_test_scaled = scale(X_test)\n",
    "\n",
    "from sklearn.linear_model import LinearRegression\n",
    "from sklearn import metrics\n",
    "import matplotlib.pyplot as plt\n",
    "\n",
    "reg = LinearRegression()\n",
    "reg.fit(X_train_scaled, y_train)\n",
    "y_pred=reg.predict(X_test_scaled)\n",
    "\n",
    "# print(y_test)\n",
    "# print(y_pred)\n",
    "\n",
    "metrics.r2_score(y_test, y_pred)\n",
    "\n",
    "\n",
    "# print('r2: %.2f' % metrics.r2_score(y_test, y_pred))\n",
    "# print('mean sq error: %.2f' % metrics.mean_squared_error(y_test, y_pred))\n",
    "\n",
    "# # print(clf.intercept_)\n",
    "# # print(clf.coef_)\n",
    "\n",
    "# df = pd.DataFrame({'Actual': y_test.flatten(), 'Predicted': y_pred.flatten()})\n",
    "# print(df)\n",
    "\n",
    "# df1 = df.head(25)\n",
    "# df1.plot(kind='bar',figsize=(16,10))\n",
    "# plt.grid(which='major', linestyle='-', linewidth='0.5', color='green')\n",
    "# plt.grid(which='minor', linestyle=':', linewidth='0.5', color='black')\n",
    "# plt.show()\n"
   ]
  },
  {
   "cell_type": "code",
   "execution_count": null,
   "metadata": {},
   "outputs": [],
   "source": []
  },
  {
   "cell_type": "code",
   "execution_count": 139,
   "metadata": {},
   "outputs": [
    {
     "name": "stdout",
     "output_type": "stream",
     "text": [
      "r2: 0.97\n",
      "mean sq error: 0.15\n"
     ]
    },
    {
     "data": {
      "image/png": "[encoded data removed]",
      "text/plain": [
       "<Figure size 432x288 with 1 Axes>"
      ]
     },
     "metadata": {},
     "output_type": "display_data"
    }
   ],
   "source": [
    "from sklearn.linear_model import Lasso\n",
    "from sklearn import metrics\n",
    "import matplotlib.pyplot as plt\n",
    "\n",
    "clf = Lasso(alpha=1.0)\n",
    "clf.fit(X_train, y_train)\n",
    "Ridge()\n",
    "y_pred=clf.predict(X_test)\n",
    "print('r2: %.2f' % metrics.r2_score(y_test, y_pred))\n",
    "print('mean sq error: %.2f' % metrics.mean_squared_error(y_test, y_pred))\n",
    "\n",
    "# Plot outputs\n",
    "plt.scatter(y_pred, y_test,  color='black')\n",
    "\n",
    "plt.xticks(())\n",
    "plt.yticks(())\n",
    "plt.show()"
   ]
  }
 ],
 "metadata": {
  "kernelspec": {
   "display_name": "Python 3",
   "language": "python",
   "name": "python3"
  },
  "language_info": {
   "codemirror_mode": {
    "name": "ipython",
    "version": 3
   },
   "file_extension": ".py",
   "mimetype": "text/x-python",
   "name": "python",
   "nbconvert_exporter": "python",
   "pygments_lexer": "ipython3",
   "version": "3.7.4"
  }
 },
 "nbformat": 4,
 "nbformat_minor": 1
}
