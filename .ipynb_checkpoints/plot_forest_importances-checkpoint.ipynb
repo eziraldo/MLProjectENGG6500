{
 "cells": [
  {
   "cell_type": "code",
   "execution_count": null,
   "metadata": {},
   "outputs": [],
   "source": [
    "%matplotlib inline"
   ]
  },
  {
   "cell_type": "markdown",
   "metadata": {},
   "source": [
    "\n",
    "# Feature importances with forests of trees\n",
    "\n",
    "\n",
    "This examples shows the use of forests of trees to evaluate the importance of\n",
    "features on an artificial classification task. The red bars are the feature\n",
    "importances of the forest, along with their inter-trees variability.\n",
    "\n",
    "As expected, the plot suggests that 3 features are informative, while the\n",
    "remaining are not.\n"
   ]
  },
  {
   "cell_type": "code",
   "execution_count": 97,
   "metadata": {},
   "outputs": [
    {
     "name": "stdout",
     "output_type": "stream",
     "text": [
      "Automatically created module for IPython interactive environment\n",
      "[[ 13.722   13.7039   7.7916 ...  47.2667 166.2302  17.6158]\n",
      " [ 24.4784  24.4341   7.4018 ...  84.3946 161.5948  31.3901]\n",
      " [ 41.0735  41.001    6.773  ... 141.6899 173.1401  52.601 ]\n",
      " ...\n",
      " [ 20.9757  21.6284  14.7863 ...  74.2304  98.0918  27.0845]\n",
      " [  9.3846   9.9422  17.788  ...  34.0597  73.4755  12.1251]\n",
      " [ 19.2344  20.0355  14.515  ...  68.7439  87.7819  24.8343]]\n",
      "[2.36 4.19 6.33 6.02 6.71 5.53 6.88 6.56 6.41 6.24 5.75 7.05 6.45 6.63\n",
      " 5.65 0.   5.64 6.39 5.03 6.22 5.37 6.4  5.06 4.89 6.81 7.43 6.27 6.78\n",
      " 7.78 6.66 6.52 5.91 5.69 6.35 6.11 5.85 6.31 6.62 5.9  5.06 6.9  6.76\n",
      " 6.76 5.35 5.35 6.64 5.09 5.32 5.91 6.14 5.79 5.41 6.08 4.97 6.43 5.5\n",
      " 7.97 5.35 5.48 5.59 5.21 6.49 5.85 5.77 6.29 5.44 5.08 5.34 6.7  5.47\n",
      " 1.83 4.15 6.73 5.6  6.68 6.95 7.92 6.   6.98 7.01 5.42 6.89 5.75 4.89\n",
      " 8.45 7.14 7.92 6.91 7.53 2.58 7.89 7.31 6.61 6.65 6.34 6.25 6.19 7.49\n",
      " 7.21 6.63 6.46 7.35 7.67 2.14 8.08 7.23 6.43 6.81 0.   7.07 6.52 7.38\n",
      " 8.18 6.43 6.73 6.48 6.95 7.67 7.3  6.34 5.12 7.53 7.7  7.48 5.83 5.78\n",
      " 8.09 6.7  7.4  6.89 6.88 6.76 7.62 6.13 7.49 7.72 6.54 7.55 6.69 6.69\n",
      " 5.67 3.73 2.91 5.05 2.81 2.93 2.99 3.09 2.15 2.29 3.58 2.85 2.45 2.17\n",
      " 2.42 3.23 2.83 2.18 8.96 2.91 1.86 2.38 1.96 2.17 3.71 2.73 1.72 1.99\n",
      " 1.43 3.32 2.46 3.64 3.34 2.74 4.75 2.72 1.6  2.56 3.36 1.84 2.69 2.63\n",
      " 2.56 2.94 2.9  2.71 3.35 4.01 1.7  4.69 1.87 2.04 3.42 3.67 1.63 3.48\n",
      " 3.24 2.8  2.45 3.1  3.39 4.11 3.12 2.73 2.72 2.54 2.02 1.79 3.71 2.31\n",
      " 3.19 3.28 3.84 2.79 2.56 2.3  1.71 2.15 2.53 2.24 2.97 2.75 2.46 3.83\n",
      " 3.7  2.53 1.57 3.43 1.87 2.   1.51 3.68 3.39 2.6  2.59 1.99 3.26 1.64\n",
      " 3.04 3.32 2.13 1.2  3.16 2.79 2.57 2.96 3.77 2.43 1.85 2.03 0.37 3.28\n",
      " 1.82 2.05 2.07 2.27 1.36 2.01 3.28 1.69 2.34 2.6  2.9  1.51 3.26 2.52\n",
      " 0.16 2.7  2.36 2.87 1.98 1.61 1.82 3.32 3.34 2.26 2.57 2.61 3.28 2.12\n",
      " 2.43 1.88 2.33 2.58 3.27 1.96 3.39 2.05 3.44]\n"
     ]
    }
   ],
   "source": [
    "print(__doc__)\n",
    "\n",
    "import numpy as np\n",
    "import matplotlib.pyplot as plt\n",
    "import pandas as pd\n",
    "from sklearn.preprocessing import scale\n",
    "from sklearn.datasets import make_classification\n",
    "from sklearn.ensemble import ExtraTreesClassifier\n",
    "from sklearn.model_selection import train_test_split\n",
    "from sklearn.metrics import plot_roc_curve, confusion_matrix, accuracy_score\n",
    "\n",
    "# header = ['name', 'hazType', 'meanXdist', 'meanYdist', 'meanAngle', 'meanSLdist', 'meanXspeed', 'meanYspeed', 'medianXdist', \n",
    "#           'medianYdist', 'medianAngle', 'medianSLdist', 'medianXspeed', 'medianYspeed', 'stdXdist', 'stdYdist', 'stdAngle', \n",
    "#           'stdSLdist', 'stdXspeed', 'stdYspeed', 'minXdist', 'minYdist', 'minAngle', 'minSLdist', 'minXspeed', 'minYspeed', \n",
    "#           'maxXdist', 'maxYdist', 'maxAngle', 'maxSLdist', 'maxXspeed', 'maxYspeed', 'rangeXdist',  'rangeYdist', 'rangeAngle', \n",
    "#           'rangeSLdist', 'rangeXspeed', 'rangeYspeed', 'skewXdist', 'skewYdist', 'skewAngle', 'skewSLdist', 'skewXspeed', 'skewYspeed', \n",
    "#           'kurtXdist', 'kurtYdist', 'kurtAngle', 'kurtSLdist', 'kurtXspeed', 'kurtYspeed', 'cvXdist', 'cvYdist', \n",
    "#           'cvAngle', 'cvSLdist', 'cvXspeed', 'cvYspeed', 'madXdist', 'madYdist', 'madAngle', 'madSLdist', 'madXspeed', 'madYspeed', \n",
    "#           'action', 'RT']\n",
    "\n",
    "\n",
    "data = pd.read_csv(\"april11dataNoNaN-subdivided.csv\", header =0, index_col=0)\n",
    "npdata = data.to_numpy()\n",
    "X = npdata[:, 1:8]\n",
    "print(X)\n",
    "y = npdata[:, 8]\n",
    "print(y)\n",
    "\n",
    "# from collections import Counter\n",
    "# from sklearn.datasets import make_classification\n",
    "# from imblearn.under_sampling import NearMiss \n",
    "\n",
    "# print('Original dataset shape %s' % Counter(y))\n",
    "# nm = NearMiss()\n",
    "# X_res, y_res = nm.fit_resample(X, y)\n",
    "# print('Resampled dataset shape %s' % Counter(y_res))\n",
    "\n",
    "# X_train, X_test, y_train, y_test =  train_test_split(X_res,y_res, test_size=0.3, random_state=0)\n",
    "\n",
    "# # X_train_scaled = scale(X_train)\n",
    "# # X_test_scaled = scale(X_test)\n",
    "\n",
    "\n",
    "# # Build a forest and compute the feature importances\n",
    "# forest = ExtraTreesClassifier(n_estimators=250, random_state=0, max_depth = 5)\n",
    "\n",
    "# forest.fit(X_train, y_train)\n",
    "# importances = forest.feature_importances_\n",
    "# std = np.std([tree.feature_importances_ for tree in forest.estimators_],\n",
    "#              axis=0)\n",
    "# indices = np.argsort(importances)[::-1]\n",
    "\n",
    "# # Print the feature ranking\n",
    "# print(\"Feature ranking:\")\n",
    "\n",
    "# for f in range(X.shape[1]):\n",
    "#     print(\"%d. feature %d (%f)\" % (f + 1, indices[f], importances[indices[f]]))\n",
    "\n",
    "# # Plot the feature importances of the forest\n",
    "# plt.figure()\n",
    "# plt.title(\"Feature importances\")\n",
    "# plt.bar(range(X.shape[1]), importances[indices],\n",
    "#        color=\"r\", yerr=std[indices], align=\"center\")\n",
    "# plt.xticks(range(X.shape[1]), indices)\n",
    "# plt.xlim([-1, X.shape[1]])\n",
    "# plt.show()\n",
    "\n",
    "\n",
    "# y_true = y_test\n",
    "# y_pred = forest.predict(X_test)\n",
    "# confusion_matrix(y_true, y_pred)\n",
    "\n",
    "# print(confusion_matrix(y_true, y_pred))\n",
    "# print(accuracy_score(y_true, y_pred))"
   ]
  },
  {
   "cell_type": "code",
   "execution_count": 129,
   "metadata": {},
   "outputs": [],
   "source": [
    "import numpy as np\n",
    "data = pd.read_csv(\"april11dataNoNaN-subdivided.csv\", header =0, index_col=0)\n",
    "npdata = data.to_numpy()\n",
    "X = npdata[:, 1:8]\n",
    "# print(X)\n",
    "y = npdata[:, 8]\n",
    "# print(y)\n",
    "\n",
    "X_train, X_test, y_train, y_test =  train_test_split(X,y, test_size=0.3, random_state=0)\n",
    "\n",
    "X_train_scaled = scale(X_train)\n",
    "X_test_scaled = scale(X_test)"
   ]
  },
  {
   "cell_type": "code",
   "execution_count": 136,
   "metadata": {},
   "outputs": [
    {
     "data": {
      "text/plain": [
       "0.09203071832895604"
      ]
     },
     "execution_count": 136,
     "metadata": {},
     "output_type": "execute_result"
    }
   ],
   "source": [
    "import numpy as np\n",
    "data = pd.read_csv(\"april11dataNoNaN-subdivided.csv\", header =0, index_col=0)\n",
    "npdata = data.to_numpy()\n",
    "X = npdata[:, 1:8]\n",
    "# print(X)\n",
    "y = npdata[:, 8]\n",
    "# print(y)\n",
    "\n",
    "X_train, X_test, y_train, y_test =  train_test_split(X,y, test_size=0.3, random_state=0)\n",
    "\n",
    "X_train_scaled = scale(X_train)\n",
    "X_test_scaled = scale(X_test)\n",
    "\n",
    "from sklearn.linear_model import LinearRegression\n",
    "from sklearn import metrics\n",
    "import matplotlib.pyplot as plt\n",
    "\n",
    "reg = LinearRegression()\n",
    "reg.fit(X_train_scaled, y_train)\n",
    "y_pred=reg.predict(X_test_scaled)\n",
    "\n",
    "# print(y_test)\n",
    "# print(y_pred)\n",
    "\n",
    "metrics.r2_score(y_test, y_pred)\n",
    "\n",
    "\n",
    "# print('r2: %.2f' % metrics.r2_score(y_test, y_pred))\n",
    "# print('mean sq error: %.2f' % metrics.mean_squared_error(y_test, y_pred))\n",
    "\n",
    "# # print(clf.intercept_)\n",
    "# # print(clf.coef_)\n",
    "\n",
    "# df = pd.DataFrame({'Actual': y_test.flatten(), 'Predicted': y_pred.flatten()})\n",
    "# print(df)\n",
    "\n",
    "# df1 = df.head(25)\n",
    "# df1.plot(kind='bar',figsize=(16,10))\n",
    "# plt.grid(which='major', linestyle='-', linewidth='0.5', color='green')\n",
    "# plt.grid(which='minor', linestyle=':', linewidth='0.5', color='black')\n",
    "# plt.show()\n"
   ]
  },
  {
   "cell_type": "code",
   "execution_count": null,
   "metadata": {},
   "outputs": [],
   "source": []
  },
  {
   "cell_type": "code",
   "execution_count": 139,
   "metadata": {},
   "outputs": [
    {
     "name": "stdout",
     "output_type": "stream",
     "text": [
      "r2: 0.97\n",
      "mean sq error: 0.15\n"
     ]
    },
    {
     "data": {
      "image/png": "[encoded data removed]",
      "text/plain": [
       "<Figure size 432x288 with 1 Axes>"
      ]
     },
     "metadata": {},
     "output_type": "display_data"
    }
   ],
   "source": [
    "from sklearn.linear_model import Lasso\n",
    "from sklearn import metrics\n",
    "import matplotlib.pyplot as plt\n",
    "\n",
    "clf = Lasso(alpha=1.0)\n",
    "clf.fit(X_train, y_train)\n",
    "Ridge()\n",
    "y_pred=clf.predict(X_test)\n",
    "print('r2: %.2f' % metrics.r2_score(y_test, y_pred))\n",
    "print('mean sq error: %.2f' % metrics.mean_squared_error(y_test, y_pred))\n",
    "\n",
    "# Plot outputs\n",
    "plt.scatter(y_pred, y_test,  color='black')\n",
    "\n",
    "plt.xticks(())\n",
    "plt.yticks(())\n",
    "plt.show()"
   ]
  }
 ],
 "metadata": {
  "kernelspec": {
   "display_name": "Python 3",
   "language": "python",
   "name": "python3"
  },
  "language_info": {
   "codemirror_mode": {
    "name": "ipython",
    "version": 3
   },
   "file_extension": ".py",
   "mimetype": "text/x-python",
   "name": "python",
   "nbconvert_exporter": "python",
   "pygments_lexer": "ipython3",
   "version": "3.7.4"
  }
 },
 "nbformat": 4,
 "nbformat_minor": 1
}
